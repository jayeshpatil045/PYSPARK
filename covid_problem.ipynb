{
 "cells": [
  {
   "cell_type": "markdown",
   "metadata": {},
   "source": [
    "'''\n",
    "\\\n",
    "@Author: Jayesh Patil \\\n",
    "@Date: 2024-10-13 \\\n",
    "@Last Modified by: Jayesh Patil \\\n",
    "@Title: Covid data set problem Using pyspark \n",
    "\n",
    "'''"
   ]
  },
  {
   "cell_type": "markdown",
   "metadata": {},
   "source": [
    "import the pyspark"
   ]
  },
  {
   "cell_type": "code",
   "execution_count": 1,
   "metadata": {},
   "outputs": [],
   "source": [
    "from pyspark.sql import SparkSession\n",
    "from pyspark.sql.functions import *\n",
    "from pyspark.sql.types import *\n"
   ]
  },
  {
   "cell_type": "markdown",
   "metadata": {},
   "source": [
    "Create Spark Session"
   ]
  },
  {
   "cell_type": "code",
   "execution_count": 2,
   "metadata": {},
   "outputs": [],
   "source": [
    "spark = SparkSession.builder.appName('covid_problem').getOrCreate()"
   ]
  },
  {
   "cell_type": "markdown",
   "metadata": {},
   "source": [
    "Read The Data From CSV File"
   ]
  },
  {
   "cell_type": "code",
   "execution_count": 3,
   "metadata": {},
   "outputs": [],
   "source": [
    "\n",
    "schema = StructType([\n",
    "    StructField(\"province_state\", StringType(), True),  \n",
    "    StructField(\"country_region\", StringType(), False),  \n",
    "    StructField(\"latitude\", DecimalType(10, 7), True),\n",
    "    StructField(\"longitude\", DecimalType(10, 7), True),\n",
    "    StructField(\"date\", DateType(), False),              \n",
    "    StructField(\"confirmed\", IntegerType(), True),\n",
    "    StructField(\"deaths\", IntegerType(), True),\n",
    "    StructField(\"recovered\", IntegerType(), True),\n",
    "    StructField(\"active\", IntegerType(), True),\n",
    "    StructField(\"who_region\", StringType(), True)\n",
    "])\n",
    "df_covid_19_clean = spark.read.csv(\"C:\\\\Users\\\\Jayesh\\\\Downloads\\\\covid-kaggle-dataset\\\\covid_19_clean_complete.csv\",header = True ,schema = schema)"
   ]
  },
  {
   "cell_type": "code",
   "execution_count": 4,
   "metadata": {},
   "outputs": [
    {
     "name": "stdout",
     "output_type": "stream",
     "text": [
      "+--------------------+-------------------+-----------+-----------+----------+---------+------+---------+------+--------------------+\n",
      "|      province_state|     country_region|   latitude|  longitude|      date|confirmed|deaths|recovered|active|          who_region|\n",
      "+--------------------+-------------------+-----------+-----------+----------+---------+------+---------+------+--------------------+\n",
      "|                NULL|        Afghanistan| 33.9391100| 67.7099530|2020-01-22|        0|     0|        0|     0|Eastern Mediterra...|\n",
      "|                NULL|            Albania| 41.1533000| 20.1683000|2020-01-22|        0|     0|        0|     0|              Europe|\n",
      "|                NULL|            Algeria| 28.0339000|  1.6596000|2020-01-22|        0|     0|        0|     0|              Africa|\n",
      "|                NULL|            Andorra| 42.5063000|  1.5218000|2020-01-22|        0|     0|        0|     0|              Europe|\n",
      "|                NULL|             Angola|-11.2027000| 17.8739000|2020-01-22|        0|     0|        0|     0|              Africa|\n",
      "|                NULL|Antigua and Barbuda| 17.0608000|-61.7964000|2020-01-22|        0|     0|        0|     0|            Americas|\n",
      "|                NULL|          Argentina|-38.4161000|-63.6167000|2020-01-22|        0|     0|        0|     0|            Americas|\n",
      "|                NULL|            Armenia| 40.0691000| 45.0382000|2020-01-22|        0|     0|        0|     0|              Europe|\n",
      "|Australian Capita...|          Australia|-35.4735000|149.0124000|2020-01-22|        0|     0|        0|     0|     Western Pacific|\n",
      "|     New South Wales|          Australia|-33.8688000|151.2093000|2020-01-22|        0|     0|        0|     0|     Western Pacific|\n",
      "|  Northern Territory|          Australia|-12.4634000|130.8456000|2020-01-22|        0|     0|        0|     0|     Western Pacific|\n",
      "|          Queensland|          Australia|-27.4698000|153.0251000|2020-01-22|        0|     0|        0|     0|     Western Pacific|\n",
      "|     South Australia|          Australia|-34.9285000|138.6007000|2020-01-22|        0|     0|        0|     0|     Western Pacific|\n",
      "|            Tasmania|          Australia|-42.8821000|147.3272000|2020-01-22|        0|     0|        0|     0|     Western Pacific|\n",
      "|            Victoria|          Australia|-37.8136000|144.9631000|2020-01-22|        0|     0|        0|     0|     Western Pacific|\n",
      "|   Western Australia|          Australia|-31.9505000|115.8605000|2020-01-22|        0|     0|        0|     0|     Western Pacific|\n",
      "|                NULL|            Austria| 47.5162000| 14.5501000|2020-01-22|        0|     0|        0|     0|              Europe|\n",
      "|                NULL|         Azerbaijan| 40.1431000| 47.5769000|2020-01-22|        0|     0|        0|     0|              Europe|\n",
      "|                NULL|            Bahamas| 25.0258850|-78.0358890|2020-01-22|        0|     0|        0|     0|            Americas|\n",
      "|                NULL|            Bahrain| 26.0275000| 50.5500000|2020-01-22|        0|     0|        0|     0|Eastern Mediterra...|\n",
      "+--------------------+-------------------+-----------+-----------+----------+---------+------+---------+------+--------------------+\n",
      "only showing top 20 rows\n",
      "\n"
     ]
    }
   ],
   "source": [
    "df_covid_19_clean.show()"
   ]
  },
  {
   "cell_type": "code",
   "execution_count": 5,
   "metadata": {},
   "outputs": [],
   "source": [
    "schema = \"\"\"\n",
    "    country_region STRING,\n",
    "    continent STRING,\n",
    "    population BIGINT,\n",
    "    total_cases BIGINT,\n",
    "    new_cases BIGINT,\n",
    "    total_deaths BIGINT,\n",
    "    new_deaths BIGINT,\n",
    "    total_recovered BIGINT,\n",
    "    new_recovered BIGINT,\n",
    "    active_cases BIGINT,\n",
    "    serious_critical INT,\n",
    "    tot_cases_per_million FLOAT,\n",
    "    deaths_per_million FLOAT,\n",
    "    total_tests BIGINT,\n",
    "    tests_per_million FLOAT,\n",
    "    who_region STRING\n",
    "\"\"\"\n",
    "df_worldometer = spark.read.csv(\"C:\\\\Users\\\\Jayesh\\\\Downloads\\\\covid-kaggle-dataset\\\\worldometer_data.csv\", schema=schema,header=True)"
   ]
  },
  {
   "cell_type": "code",
   "execution_count": 6,
   "metadata": {},
   "outputs": [
    {
     "name": "stdout",
     "output_type": "stream",
     "text": [
      "+--------------+-------------+----------+-----------+---------+------------+----------+---------------+-------------+------------+----------------+---------------------+------------------+-----------+-----------------+--------------------+\n",
      "|country_region|    continent|population|total_cases|new_cases|total_deaths|new_deaths|total_recovered|new_recovered|active_cases|serious_critical|tot_cases_per_million|deaths_per_million|total_tests|tests_per_million|          who_region|\n",
      "+--------------+-------------+----------+-----------+---------+------------+----------+---------------+-------------+------------+----------------+---------------------+------------------+-----------+-----------------+--------------------+\n",
      "|           USA|North America| 331198130|    5032179|     NULL|      162804|      NULL|        2576668|         NULL|     2292707|           18296|              15194.0|             492.0|   63139605|         190640.0|            Americas|\n",
      "|        Brazil|South America| 212710692|    2917562|     NULL|       98644|      NULL|        2047660|         NULL|      771258|            8318|              13716.0|             464.0|   13206188|          62085.0|            Americas|\n",
      "|         India|         Asia|1381344997|    2025409|     NULL|       41638|      NULL|        1377384|         NULL|      606387|            8944|               1466.0|              30.0|   22149351|          16035.0|      South-EastAsia|\n",
      "|        Russia|       Europe| 145940924|     871894|     NULL|       14606|      NULL|         676357|         NULL|      180931|            2300|               5974.0|             100.0|   29716907|         203623.0|              Europe|\n",
      "|  South Africa|       Africa|  59381566|     538184|     NULL|        9604|      NULL|         387316|         NULL|      141264|             539|               9063.0|             162.0|    3149807|          53044.0|              Africa|\n",
      "|        Mexico|North America| 129066160|     462690|     6590|       50517|       819|         308848|         4140|      103325|            3987|               3585.0|             391.0|    1056915|           8189.0|            Americas|\n",
      "|          Peru|South America|  33016319|     455409|     NULL|       20424|      NULL|         310337|         NULL|      124648|            1426|              13793.0|             619.0|    2493429|          75521.0|            Americas|\n",
      "|         Chile|South America|  19132514|     366671|     NULL|        9889|      NULL|         340168|         NULL|       16614|            1358|              19165.0|             517.0|    1760615|          92022.0|            Americas|\n",
      "|      Colombia|South America|  50936262|     357710|     NULL|       11939|      NULL|         192355|         NULL|      153416|            1493|               7023.0|             234.0|    1801835|          35374.0|            Americas|\n",
      "|         Spain|       Europe|  46756648|     354530|     NULL|       28500|      NULL|           NULL|         NULL|        NULL|             617|               7582.0|             610.0|    7064329|         151087.0|              Europe|\n",
      "|          Iran|         Asia|  84097623|     320117|     NULL|       17976|      NULL|         277463|         NULL|       24678|            4156|               3806.0|             214.0|    2612763|          31068.0|EasternMediterranean|\n",
      "|            UK|       Europe|  67922029|     308134|     NULL|       46413|      NULL|           NULL|         NULL|        NULL|              73|               4537.0|             683.0|   17515234|         257873.0|              Europe|\n",
      "|  Saudi Arabia|         Asia|  34865919|     284226|     NULL|        3055|      NULL|         247089|         NULL|       34082|            1915|               8152.0|              88.0|    3635705|         104277.0|EasternMediterranean|\n",
      "|      Pakistan|         Asia| 221295851|     281863|     NULL|        6035|      NULL|         256058|         NULL|       19770|             809|               1274.0|              27.0|    2058872|           9304.0|EasternMediterranean|\n",
      "|    Bangladesh|         Asia| 164851401|     249651|     NULL|        3306|      NULL|         143824|         NULL|      102521|            NULL|               1514.0|              20.0|    1225124|           7432.0|      South-EastAsia|\n",
      "|         Italy|       Europe|  60452568|     249204|     NULL|       35187|      NULL|         201323|         NULL|       12694|              42|               4122.0|             582.0|    7099713|         117443.0|              Europe|\n",
      "|        Turkey|         Asia|  84428331|     237265|     NULL|        5798|      NULL|         220546|         NULL|       10921|             580|               2810.0|              69.0|    5081802|          60191.0|              Europe|\n",
      "|     Argentina|South America|  45236884|     228195|     NULL|        4251|      NULL|          99852|         NULL|      124092|            1150|               5044.0|              94.0|     794544|          17564.0|            Americas|\n",
      "|       Germany|       Europe|  83811260|     215210|     NULL|        9252|      NULL|         196200|         NULL|        9758|             236|               2568.0|             110.0|    8586648|         102452.0|              Europe|\n",
      "|        France|       Europe|  65288306|     195633|     NULL|       30312|      NULL|          82460|         NULL|       82861|             384|               2996.0|             464.0|    3992206|          61147.0|              Europe|\n",
      "+--------------+-------------+----------+-----------+---------+------------+----------+---------------+-------------+------------+----------------+---------------------+------------------+-----------+-----------------+--------------------+\n",
      "only showing top 20 rows\n",
      "\n"
     ]
    }
   ],
   "source": [
    "df_worldometer.show()"
   ]
  },
  {
   "cell_type": "markdown",
   "metadata": {},
   "source": [
    "1.To find out the death percentage locally and globally"
   ]
  },
  {
   "cell_type": "markdown",
   "metadata": {},
   "source": [
    "A.Global Death Percentage"
   ]
  },
  {
   "cell_type": "code",
   "execution_count": 7,
   "metadata": {},
   "outputs": [
    {
     "name": "stdout",
     "output_type": "stream",
     "text": [
      "Global Death Percentage: 5.24%\n"
     ]
    }
   ],
   "source": [
    "global_deaths = df_covid_19_clean.agg(sum(\"deaths\")).first()[0]\n",
    "global_cases = df_covid_19_clean.agg(sum(\"confirmed\")).first()[0]\n",
    "global_death_percentage = (global_deaths / global_cases) * 100 if global_cases > 0 else 0\n",
    "\n",
    "print(f\"Global Death Percentage: {global_death_percentage:.2f}%\")"
   ]
  },
  {
   "cell_type": "markdown",
   "metadata": {},
   "source": [
    "B.local Death Percentage by country"
   ]
  },
  {
   "cell_type": "code",
   "execution_count": 8,
   "metadata": {},
   "outputs": [
    {
     "name": "stdout",
     "output_type": "stream",
     "text": [
      "+--------------+------------+----------------------+\n",
      "|country_region|local_deaths|local_death_percentage|\n",
      "+--------------+------------+----------------------+\n",
      "|          Chad|        5523|     8.599321147198953|\n",
      "|      Paraguay|        1663|    1.0634828263191216|\n",
      "|        Russia|      619385|    1.3640314346168159|\n",
      "|         Yemen|       17707|    26.357546888955046|\n",
      "|       Senegal|        7177|    1.5353283831454017|\n",
      "|    Cabo Verde|         854|    1.0322487066673114|\n",
      "|        Sweden|      448913|     9.026715408311818|\n",
      "|        Guyana|        1346|     7.051181308607052|\n",
      "|   Philippines|      110892|     3.730457836561864|\n",
      "|         Burma|         639|    2.5369223439733206|\n",
      "|      Djibouti|        3011|    0.8955552382991886|\n",
      "|      Malaysia|       12971|    1.4792319078909855|\n",
      "|     Singapore|        2441|   0.06969363352512169|\n",
      "|        Turkey|      466056|    2.6031783446054355|\n",
      "|        Malawi|        1640|    1.8290098811143578|\n",
      "|Western Sahara|          63|     6.992230854605993|\n",
      "|          Iraq|      121392|     3.923936556043584|\n",
      "|       Germany|      871322|     4.137498034108876|\n",
      "|       Comoros|         337|    2.1298110345699297|\n",
      "|   Afghanistan|       49098|    2.5355429433120396|\n",
      "+--------------+------------+----------------------+\n",
      "only showing top 20 rows\n",
      "\n"
     ]
    }
   ],
   "source": [
    "local_death_percentage = df_covid_19_clean \\\n",
    "    .groupBy(\"country_region\") \\\n",
    "    .agg(\n",
    "        sum(\"deaths\").alias(\"local_deaths\"),\n",
    "        (sum(\"deaths\") * 100.0 / sum(\"confirmed\")).alias(\"local_death_percentage\")\n",
    "    ) \\\n",
    "    .filter(col(\"local_deaths\") > 0)\n",
    "\n",
    "local_death_percentage.show()\n"
   ]
  },
  {
   "cell_type": "markdown",
   "metadata": {},
   "source": [
    "2.To find out the infected population percentage locally and globally\n"
   ]
  },
  {
   "cell_type": "markdown",
   "metadata": {},
   "source": [
    "A.Global Infected Population Percentage"
   ]
  },
  {
   "cell_type": "code",
   "execution_count": 9,
   "metadata": {},
   "outputs": [
    {
     "name": "stdout",
     "output_type": "stream",
     "text": [
      "Global Infected Population Percentage: 13.10%\n"
     ]
    }
   ],
   "source": [
    "global_population = df_worldometer.agg(sum(\"population\")).first()[0]\n",
    "global_infected_population_per = (\n",
    "    (global_cases / global_population) * 100\n",
    "    if global_population > 0 else 0 \n",
    ") \n",
    "print(f\"Global Infected Population Percentage: {global_infected_population_per:.2f}%\")"
   ]
  },
  {
   "cell_type": "markdown",
   "metadata": {},
   "source": [
    "B.Local Infected Population Percentage by Country"
   ]
  },
  {
   "cell_type": "code",
   "execution_count": 10,
   "metadata": {},
   "outputs": [
    {
     "name": "stdout",
     "output_type": "stream",
     "text": [
      "+--------------+-----------+----------+------------------------------------+\n",
      "|country_region|total_cases|population|local_infected_population_percentage|\n",
      "+--------------+-----------+----------+------------------------------------+\n",
      "|           USA|    5032179| 331198130|                  1.5193862960518527|\n",
      "|        Brazil|    2917562| 212710692|                  1.3716104125127853|\n",
      "|         India|    2025409|1381344997|                 0.14662586134519442|\n",
      "|        Russia|     871894| 145940924|                  0.5974294091765515|\n",
      "|  South Africa|     538184|  59381566|                  0.9063149328193871|\n",
      "|        Mexico|     462690| 129066160|                 0.35849056019021563|\n",
      "|          Peru|     455409|  33016319|                  1.3793451656436928|\n",
      "|         Chile|     366671|  19132514|                  1.9164810228284688|\n",
      "|      Colombia|     357710|  50936262|                  0.7022698289089215|\n",
      "|         Spain|     354530|  46756648|                  0.7582451162880623|\n",
      "|          Iran|     320117|  84097623|                  0.3806492842253104|\n",
      "|            UK|     308134|  67922029|                  0.4536584147096077|\n",
      "|  Saudi Arabia|     284226|  34865919|                  0.8151972130721694|\n",
      "|      Pakistan|     281863| 221295851|                  0.1273693106880707|\n",
      "|    Bangladesh|     249651| 164851401|                 0.15144002324857403|\n",
      "|         Italy|     249204|  60452568|                   0.412230626827962|\n",
      "|        Turkey|     237265|  84428331|                 0.28102533496723986|\n",
      "|     Argentina|     228195|  45236884|                  0.5044445590018977|\n",
      "|       Germany|     215210|  83811260|                   0.256779339673452|\n",
      "|        France|     195633|  65288306|                 0.29964477865301026|\n",
      "+--------------+-----------+----------+------------------------------------+\n",
      "only showing top 20 rows\n",
      "\n"
     ]
    }
   ],
   "source": [
    "local_infected_population_percentage = df_worldometer \\\n",
    "    .filter(col(\"total_cases\") > 0) \\\n",
    "    .select(\n",
    "        col(\"country_region\"),\n",
    "        col(\"total_cases\"),\n",
    "        col(\"population\"),\n",
    "        (col(\"total_cases\") * 100.0 / col(\"population\")).alias(\"local_infected_population_percentage\")\n",
    "    )\n",
    "\n",
    "local_infected_population_percentage.show()\n"
   ]
  },
  {
   "cell_type": "markdown",
   "metadata": {},
   "source": [
    "3.To find out the countries with the highest infection rates"
   ]
  },
  {
   "cell_type": "code",
   "execution_count": 11,
   "metadata": {},
   "outputs": [
    {
     "name": "stdout",
     "output_type": "stream",
     "text": [
      "+--------------+-----------+----------+------------------+\n",
      "|country_region|total_cases|population|    infection_rate|\n",
      "+--------------+-----------+----------+------------------+\n",
      "|         Qatar|     112092|   2807805|3.9921575750452756|\n",
      "| French Guiana|       8127|    299385|2.7145648579588157|\n",
      "|       Bahrain|      42889|   1706669|2.5130239079751258|\n",
      "|    San Marino|        699|     33938| 2.059638163710295|\n",
      "|         Chile|     366671|  19132514|1.9164810228284688|\n",
      "|        Panama|      71418|   4321282|1.6527039892328248|\n",
      "|        Kuwait|      70045|   4276658|1.6378443167538765|\n",
      "|          Oman|      80713|   5118446|1.5769043963734306|\n",
      "|           USA|    5032179| 331198130|1.5193862960518527|\n",
      "|  Vatican City|         12|       801|1.4981273408239701|\n",
      "+--------------+-----------+----------+------------------+\n",
      "\n"
     ]
    }
   ],
   "source": [
    "highest_infection_rates = df_worldometer \\\n",
    "    .filter(col(\"total_cases\") > 0) \\\n",
    "    .select(\n",
    "        col(\"country_region\"),\n",
    "        col(\"total_cases\"),\n",
    "        col(\"population\"),\n",
    "        (col(\"total_cases\") * 100.0 / col(\"population\")).alias(\"infection_rate\")\n",
    "    ) \\\n",
    "    .orderBy(col(\"infection_rate\").desc()) \\\n",
    "    .limit(10)\n",
    "\n",
    "highest_infection_rates.show()\n"
   ]
  },
  {
   "cell_type": "markdown",
   "metadata": {},
   "source": [
    "4.To find out the countries and continents with the highest death counts"
   ]
  },
  {
   "cell_type": "markdown",
   "metadata": {},
   "source": [
    "A. Highest Death Counts by Country"
   ]
  },
  {
   "cell_type": "code",
   "execution_count": 12,
   "metadata": {},
   "outputs": [
    {
     "name": "stdout",
     "output_type": "stream",
     "text": [
      "+--------------+------------+\n",
      "|country_region|total_deaths|\n",
      "+--------------+------------+\n",
      "|            US|    11011411|\n",
      "|United Kingdom|     3997775|\n",
      "|        Brazil|     3938034|\n",
      "|         Italy|     3707717|\n",
      "|        France|     3048524|\n",
      "|         Spain|     3033030|\n",
      "|        Mexico|     1728277|\n",
      "|         India|     1111831|\n",
      "|          Iran|     1024136|\n",
      "|       Belgium|      963679|\n",
      "|       Germany|      871322|\n",
      "|        Canada|      699566|\n",
      "|         China|      672413|\n",
      "|          Peru|      652113|\n",
      "|   Netherlands|      622314|\n",
      "|        Russia|      619385|\n",
      "|        Turkey|      466056|\n",
      "|        Sweden|      448913|\n",
      "|       Ecuador|      346618|\n",
      "|         Chile|      322480|\n",
      "+--------------+------------+\n",
      "only showing top 20 rows\n",
      "\n"
     ]
    }
   ],
   "source": [
    "highest_death_counts_country = df_covid_19_clean \\\n",
    "    .groupBy(\"country_region\") \\\n",
    "    .agg(sum(\"deaths\").alias(\"total_deaths\")) \\\n",
    "    .orderBy(col(\"total_deaths\").desc())\n",
    "highest_death_counts_country.show()"
   ]
  },
  {
   "cell_type": "markdown",
   "metadata": {},
   "source": [
    "B. Highest Death Counts by Continent"
   ]
  },
  {
   "cell_type": "code",
   "execution_count": 13,
   "metadata": {},
   "outputs": [
    {
     "name": "stdout",
     "output_type": "stream",
     "text": [
      "+--------------------+------------+\n",
      "|          who_region|total_deaths|\n",
      "+--------------------+------------+\n",
      "|            Americas|    19359292|\n",
      "|              Europe|    19271040|\n",
      "|Eastern Mediterra...|     1924029|\n",
      "|     South-East Asia|     1458134|\n",
      "|     Western Pacific|      932430|\n",
      "|              Africa|      439978|\n",
      "+--------------------+------------+\n",
      "\n"
     ]
    }
   ],
   "source": [
    "highest_death_counts_continent = df_covid_19_clean \\\n",
    "    .groupBy(\"who_region\") \\\n",
    "    .agg(sum(\"deaths\").alias(\"total_deaths\")) \\\n",
    "    .orderBy(col(\"total_deaths\").desc())\n",
    "highest_death_counts_continent.show()    "
   ]
  },
  {
   "cell_type": "markdown",
   "metadata": {},
   "source": [
    "5.Average Number of Deaths by Day (Continents and Countries)"
   ]
  },
  {
   "cell_type": "markdown",
   "metadata": {},
   "source": [
    "A.Average Number of Deaths by Day (Continents )"
   ]
  },
  {
   "cell_type": "code",
   "execution_count": 14,
   "metadata": {},
   "outputs": [
    {
     "name": "stdout",
     "output_type": "stream",
     "text": [
      "+--------------------+--------------------+\n",
      "|          who_region|average_daily_deaths|\n",
      "+--------------------+--------------------+\n",
      "|            Americas|   102974.9574468085|\n",
      "|              Europe|  102505.53191489361|\n",
      "|Eastern Mediterra...|  10234.196808510638|\n",
      "|     South-East Asia|   7756.031914893617|\n",
      "|     Western Pacific|   4959.734042553191|\n",
      "|              Africa|   2340.308510638298|\n",
      "+--------------------+--------------------+\n",
      "\n"
     ]
    }
   ],
   "source": [
    "average_daily_deaths_continents = df_covid_19_clean \\\n",
    "    .groupBy(\"who_region\",\"date\") \\\n",
    "    .agg(sum(\"deaths\").alias (\"daily_deaths\")) \\\n",
    "    .groupBy(\"who_region\") \\\n",
    "    .agg(avg(\"daily_deaths\").alias(\"average_daily_deaths\"))\\\n",
    "    .orderBy(col(\"average_daily_deaths\").desc())\n",
    "average_daily_deaths_continents.show()      "
   ]
  },
  {
   "cell_type": "markdown",
   "metadata": {},
   "source": [
    "B.Average Number of Deaths by Day (Countries)"
   ]
  },
  {
   "cell_type": "code",
   "execution_count": 15,
   "metadata": {},
   "outputs": [
    {
     "name": "stdout",
     "output_type": "stream",
     "text": [
      "+--------------+--------------------+\n",
      "|country_region|average_daily_deaths|\n",
      "+--------------+--------------------+\n",
      "|            US|  58571.335106382976|\n",
      "|United Kingdom|  21264.760638297874|\n",
      "|        Brazil|  20946.989361702126|\n",
      "|         Italy|   19721.89893617021|\n",
      "|        France|  16215.553191489362|\n",
      "|         Spain|   16133.13829787234|\n",
      "|        Mexico|   9192.962765957447|\n",
      "|         India|   5913.994680851064|\n",
      "|          Iran|   5447.531914893617|\n",
      "|       Belgium|   5125.952127659574|\n",
      "|       Germany|   4634.691489361702|\n",
      "|        Canada|   3721.095744680851|\n",
      "|         China|  3576.6648936170213|\n",
      "|          Peru|   3468.686170212766|\n",
      "|   Netherlands|    3310.18085106383|\n",
      "|        Russia|   3294.601063829787|\n",
      "|        Turkey|   2479.021276595745|\n",
      "|        Sweden|  2387.8351063829787|\n",
      "|       Ecuador|   1843.712765957447|\n",
      "|         Chile|  1715.3191489361702|\n",
      "+--------------+--------------------+\n",
      "only showing top 20 rows\n",
      "\n"
     ]
    }
   ],
   "source": [
    "average_daily_deaths_continents = df_covid_19_clean \\\n",
    "    .groupBy(\"country_region\",\"date\") \\\n",
    "    .agg(sum(\"deaths\").alias (\"daily_deaths\")) \\\n",
    "    .groupBy(\"country_region\") \\\n",
    "    .agg(avg(\"daily_deaths\").alias(\"average_daily_deaths\"))\\\n",
    "    .orderBy(col(\"average_daily_deaths\").desc())\n",
    "average_daily_deaths_continents.show()   "
   ]
  },
  {
   "cell_type": "markdown",
   "metadata": {},
   "source": [
    "6.Average of cases divided by the number of population of each country (TOP 10)"
   ]
  },
  {
   "cell_type": "code",
   "execution_count": 16,
   "metadata": {},
   "outputs": [
    {
     "name": "stdout",
     "output_type": "stream",
     "text": [
      "+--------------+----------------------------+\n",
      "|country_region|average_cases_per_population|\n",
      "+--------------+----------------------------+\n",
      "|         Qatar|        0.012081836697833968|\n",
      "|    San Marino|        0.011746858790058969|\n",
      "|       Andorra|        0.006497954607653055|\n",
      "|       Bahrain|        0.005470423455080...|\n",
      "|         Chile|         0.00470838625584943|\n",
      "|    Luxembourg|        0.004253566325482042|\n",
      "|        Kuwait|        0.003880739527144993|\n",
      "|       Iceland|        0.003446367357671...|\n",
      "|     Singapore|        0.003181961842215...|\n",
      "|         Spain|        0.003117550188980...|\n",
      "+--------------+----------------------------+\n",
      "\n"
     ]
    },
    {
     "ename": "",
     "evalue": "",
     "output_type": "error",
     "traceback": [
      "\u001b[1;31mThe Kernel crashed while executing code in the current cell or a previous cell. \n",
      "\u001b[1;31mPlease review the code in the cell(s) to identify a possible cause of the failure. \n",
      "\u001b[1;31mClick <a href='https://aka.ms/vscodeJupyterKernelCrash'>here</a> for more info. \n",
      "\u001b[1;31mView Jupyter <a href='command:jupyter.viewOutput'>log</a> for further details."
     ]
    }
   ],
   "source": [
    "average_cases_per_population = df_covid_19_clean \\\n",
    "    .join(df_worldometer, \"country_region\") \\\n",
    "    .groupBy(\"country_region\") \\\n",
    "    .agg((sum(\"confirmed\") * 1.0 / sum(\"population\")).alias(\"average_cases_per_population\")) \\\n",
    "    .orderBy(col(\"average_cases_per_population\").desc()) \\\n",
    "    .limit(10)\n",
    "\n",
    "average_cases_per_population.show()\n"
   ]
  }
 ],
 "metadata": {
  "kernelspec": {
   "display_name": "Python 3",
   "language": "python",
   "name": "python3"
  },
  "language_info": {
   "codemirror_mode": {
    "name": "ipython",
    "version": 3
   },
   "file_extension": ".py",
   "mimetype": "text/x-python",
   "name": "python",
   "nbconvert_exporter": "python",
   "pygments_lexer": "ipython3",
   "version": "3.12.5"
  }
 },
 "nbformat": 4,
 "nbformat_minor": 2
}
